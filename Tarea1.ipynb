{
 "cells": [
  {
   "cell_type": "markdown",
   "metadata": {},
   "source": [
    "<img style=\"float: left; margin: 30px 15px 15px 15px;\" src=\"https://pngimage.net/wp-content/uploads/2018/06/logo-iteso-png-5.png\" width=\"300\" height=\"500\" /> \n",
    "    \n",
    "    \n",
    "### <font color='navy'> Simulación de procesos financieros. \n",
    "\n",
    "**Nombres:** Bruno Issac Pimentel Vargas, Jesús Álvarez Castellanos.\n",
    "\n",
    "**Fecha:** 03 de enero del 2020.\n",
    "\n",
    "**Expediente** : 716803, 714552.\n",
    "**Profesor:** Oscar David Jaramillo Zuluaga.\n",
    "\n",
    "# Tarea 1: Clase 1"
   ]
  },
  {
   "cell_type": "markdown",
   "metadata": {},
   "source": [
    "## Enunciado de tarea (Transcibirlo)\n",
    "> Descripción de la tarea"
   ]
  },
  {
   "cell_type": "markdown",
   "metadata": {},
   "source": [
    "### Ejercicio 1: (enunciado)"
   ]
  },
  {
   "cell_type": "markdown",
   "metadata": {},
   "source": [
    "# ESTUDIANTE 1\n",
    "Mis espectativas del curso es lograr todos los objetivos propuestos por el profesor para nosotros los alumnos.\n",
    "\n",
    "### Figura 5\n",
    "1. La fórmula el rectángulo se obtiene al interpolar a $f(x)$ por medio del polinomio constante $p_o(x)=f(\\frac{a+b}{2})$\n",
    "<center> $\\int_a^bf(x)dx\\approx(b-a)f(\\frac{a+b}{2})=R(f)$.</center>\n",
    "2. La fórmula del trapecio se obtiene al interpolar $f$ por medio de un polinomio lineal $p_1(x)=ax+\\beta$ que satisfaga $f(a)=p_1(a)$, y $f(b)=p_1(b)$. Determinar el polinomio lineal es equivalente a resolver un sistemoa de ecuaciones lineales para $\\alpha$ y $\\beta$ cuya solución es\n",
    "<center> $a=\\frac{f(b)-f(a)}{b-a}  \\beta=\\frac{f(b)a-f(a)b}{b-a}$.</center>\n",
    "Al integrar $p_1(x)$ en el intervalo $[a,b]$, se obtiene la regla del trapecio con $h=b-a$\n",
    "<center> $\\int_a^bf(x)dx\\approx\\int_a^bp_1(x)dx=\\frac{h}{2}(f(a)+f(b))=T(f)$.</center>\n",
    "El error está dado por\n",
    "<center> $\\int_a^bf(x)dx-T(f)=-\\frac{h^3}{12}(f^{\\prime\\prime}(n))$, &nbsp; &nbsp; &nbsp; &nbsp;$a<n<b$ </center>\n",
    "3. Por último al integrar el polinomio cuadrático que interpola a $f$ en $x=a$,$x=\\frac{a+b}{2}$, y $x=b$ se obtiene la regla de Simpson con $h=\\frac{b-a}{2}$.\n",
    "<center> $\\int_a^bf(x)dx\\approx\\int_a^bp_2(x)dx=\\frac{h}{3}(f(a)+4f(a+h)+f(b))=S(f)$.</center>\n",
    "El error que se comete al usar Simpson es\n",
    "<center> $\\int_a^bf(x)dx-S(f)=-\\frac{h^5}{90}(f^{(4)}(n))$, &nbsp; &nbsp; &nbsp; &nbsp;$a<n<b$ </center>\n",
    "\n",
    "<img style=\"float: center; margin: 30px 15px 15px 15px;\" src=\"https://blogs.imf-formacion.com/blog/tecnologia/wp-content/uploads/2019/02/mercado-big-data-business-analytics-2022.jpg\" width=\"1200\" height=\"660\" /> \n",
    "\n",
    "<center> Aquí tenemos unos pequeños de un Portafolio X </center>\n",
    "\n",
    "| Portafolio  | EU     | RU     | Francia | Alemania | Japon  |\n",
    "|-------------|--------|--------|---------|----------|--------|\n",
    "| Media       | 0.1355 | 0.1589 | 0.1519  | 0.1435   | 0.1497 |\n",
    "| Volatilidad | 0.1535 | 0.243  | 0.2324  | 0.2038   | 0.2298 |\n",
    "    \n"
   ]
  },
  {
   "cell_type": "markdown",
   "metadata": {},
   "source": [
    "# Estudiante 2\n",
    "\n",
    "## Presentación \n",
    "\n",
    "   Hola, mi nombre es Bruno Pimentel, tengo **21** años y soy estudiante de la carrera Ingenieria Finanaciera, estoy cursando **6** semestre y realmente lo que espero lograr a lo largo de este curso es poder eficientar mi manera de programar para lograr realizar programas con un mayor grado de dificultad y con un tiempo menor de espera de los resultados. \n",
    "    Espero poder lograr simular ciertos escenarios de manera que me permitan visualizar posibles comportamientos y resultados para poder lograr en mi trabajo lo siguiente:\n",
    "    1. Reducir costos \n",
    "    2. Predecir ventas\n",
    "    3. Valuar la viabiliad de ciertos proyectos de inversión \n",
    "    \n",
    "| Productos | Cantidad | Porcentaje | % calificación |\n",
    "|:---------:|:--------:|:----------:|:--------------:|\n",
    "|   Examen  |     2    |     15     |       30%      |\n",
    "|   Tareas  |    10    |      3     |       30%      |\n",
    "| Proyectos |     1    |     20     |       20%      |\n",
    "|   Quices  |     7    |    ≈2.86   |       20%      |\n",
    "\n",
    "\n",
    "### Figura 5\n",
    "\n",
    "1. La fórmula el rectángulo se obtiene al interpolar a $f(x)$ por medio del polinomio contante $p_0(x)=f(\\frac{a+b}{2})$.\n",
    "\n",
    "$$\n",
    "\\int_{a}^{b}f(x)dx\\approx (b-a) f(\\frac{a+b}{2}) = R(f).\n",
    "$$\n",
    "\n",
    "2. La fórmula del trapecio se obtiene al interpolar a $f$ por medio de un polinomio lineal $p_1(x)=\\alpha x + \\beta$ que satisfaga $f(a) = p_1(a)$, y $f(b)=p_1(b)$.Determinar el polinomio lineal es equivalente a resolver un sistema de ecuaciones lineales para $\\alpha$ y $\\beta$ cuya solución es \n",
    "\n",
    "$$\n",
    "\\alpha=\\frac{f(b)-f(a)}{b-a} \\qquad  \\beta=\\frac{f(b)a-f(a)b}{b-a}.\n",
    "$$\n",
    "\n",
    "Al integrar $p_1(x)$ en el intervalo $[a,b]$, se obtiene la regla del trapecio con $h=b-a$\n",
    "\n",
    "$$\n",
    "\\int_{a}^{b}f(x)dx\\approx\\int_{a}^{b}p_1(x)dx=\\frac{h}{2}(f(a)+f(b))=T(f).\n",
    "$$\n",
    "   \n",
    "El error está dado por\n",
    "$$\n",
    "\\int_{a}^{b}f(x)dx-T(f)=-\\frac{h^3}{12}({f}''(n)), \\qquad a < n < b.\n",
    "$$\n",
    "\n",
    "3. Por último al integrar el polinomio cuadrático que interpola a $f$ en $x = a, x=\\frac{a+b}{2}$, y $x=b$ se obtiene la regla  de Simpson con $h=\\frac{b-a}{2}$\n",
    "\n",
    "$$\n",
    "\\int_{a}^{b}f(x)dx\\approx\\int_{a}^{b}p_2(x)dx=\\frac{h}{3}(f(a)+4f(a+h)+f(b))=S(f).\n",
    "$$\n",
    "\n",
    "El error que se comete al usar Simpson es \n",
    "\n",
    "$$\n",
    "\\int_{a}^{b}f(x)dx-S(f)=\\frac{h^5}{90}(f^{(4)})(n)), \\qquad a < n < b.\n",
    "$$\n",
    "\n",
    "<img style=\"center\" src=\"https://img2.freepng.es/20180424/arw/kisspng-trapezoidal-rule-integral-numerical-integration-ap-composite-5aded0b790de36.6185651315245518635934.jpg\" width=\"250px\" height=\"200px\" alt=\"atom\" />"
   ]
  },
  {
   "cell_type": "markdown",
   "metadata": {},
   "source": [
    "# Programas"
   ]
  },
  {
   "cell_type": "code",
   "execution_count": 10,
   "metadata": {},
   "outputs": [
    {
     "name": "stdout",
     "output_type": "stream",
     "text": [
      "0 1 1 2 3 5 8 13 21 34 55 89 144 233 377 610 987 1597 2584 4181 6765 10946 17711 28657 46368 75025 121393 196418 317811 514229 832040 1346269 2178309 3524578 5702887 9227465 14930352 24157817 39088169 63245986 102334155 165580141 267914296 433494437 701408733 1134903170 1836311903 2971215073 4807526976 7778742049 12586269025 20365011074 32951280099 53316291173 86267571272 139583862445 225851433717 365435296162 591286729879 956722026041 1548008755920 2504730781961 4052739537881 6557470319842 10610209857723 17167680177565 27777890035288 44945570212853 72723460248141 117669030460994 190392490709135 308061521170129 498454011879264 806515533049393 1304969544928657 2111485077978050 3416454622906707 5527939700884757 8944394323791464 14472334024676221 23416728348467685 37889062373143906 61305790721611591 99194853094755497 160500643816367088 259695496911122585 420196140727489673 679891637638612258 1100087778366101931 1779979416004714189 2880067194370816120 4660046610375530309 7540113804746346429 12200160415121876738 19740274219868223167 31940434634990099905 51680708854858323072 83621143489848422977 135301852344706746049 218922995834555169026 "
     ]
    }
   ],
   "source": [
    "a,b=0,1\n",
    "for i in range(100):\n",
    "    print(a,end=' ')\n",
    "    a, b=b, a + b"
   ]
  },
  {
   "cell_type": "code",
   "execution_count": 2,
   "metadata": {},
   "outputs": [
    {
     "name": "stdout",
     "output_type": "stream",
     "text": [
      "[0, 3, 5, 7, 11, 13, 17, 19, 23, 29, 31, 37, 41, 43, 47, 53, 59, 61, 67, 71, 73, 79, 83, 89, 97]\n"
     ]
    }
   ],
   "source": [
    "n = 100\n",
    "p = [0] + [x for x in range(3, n+1, 2) if not [y for y in range(3, int(x**0.5)+1, 2) if (float(x) / y).is_integer()]]\n",
    "print(p)"
   ]
  },
  {
   "cell_type": "code",
   "execution_count": null,
   "metadata": {},
   "outputs": [],
   "source": []
  }
 ],
 "metadata": {
  "kernelspec": {
   "display_name": "Python 3",
   "language": "python",
   "name": "python3"
  },
  "language_info": {
   "codemirror_mode": {
    "name": "ipython",
    "version": 3
   },
   "file_extension": ".py",
   "mimetype": "text/x-python",
   "name": "python",
   "nbconvert_exporter": "python",
   "pygments_lexer": "ipython3",
   "version": "3.7.4"
  }
 },
 "nbformat": 4,
 "nbformat_minor": 2
}
